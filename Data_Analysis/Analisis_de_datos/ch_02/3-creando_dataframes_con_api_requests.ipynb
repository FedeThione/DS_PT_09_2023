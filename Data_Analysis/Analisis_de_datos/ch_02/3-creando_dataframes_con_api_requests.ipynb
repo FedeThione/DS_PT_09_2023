{
 "cells": [
  {
   "cell_type": "markdown",
   "metadata": {},
   "source": [
    "# Creación de Pandas DataFrames a partir de peticiones API\n",
    "En este ejemplo, utilizaremos la API del U.S. Geological Survey para obtener un objeto JSON de datos de terremotos y convertirlo en un `pandas.DataFrame`.\n",
    "\n",
    "API DEL USGS: https://earthquake.usgs.gov/fdsnws/event/1/"
   ]
  },
  {
   "cell_type": "markdown",
   "metadata": {},
   "source": [
    "### Obtener datos de la API"
   ]
  },
  {
   "cell_type": "code",
   "execution_count": 1,
   "metadata": {},
   "outputs": [
    {
     "data": {
      "text/plain": [
       "200"
      ]
     },
     "execution_count": 1,
     "metadata": {},
     "output_type": "execute_result"
    }
   ],
   "source": [
    "import datetime as dt   # para pedir todas las fechas que quiera\n",
    "import pandas as pd\n",
    "import requests\n",
    "\n",
    "yesterday = dt.date.today() - dt.timedelta(days=1)\n",
    "api = 'https://earthquake.usgs.gov/fdsnws/event/1/query'\n",
    "payload = {\n",
    "    'format': 'geojson',\n",
    "    'starttime': yesterday - dt.timedelta(days=30),\n",
    "    'endtime': yesterday\n",
    "}\n",
    "response = requests.get(api, params=payload)\n",
    "\n",
    "# asegurémonos de que la solicitud fue correcta\n",
    "response.status_code"
   ]
  },
  {
   "cell_type": "markdown",
   "metadata": {},
   "source": [
    "Una respuesta de 200 significa OK, así que podemos extraer los datos del resultado. Como le pedimos a la API una carga JSON, podemos extraerla de la respuesta con el método `json()`.\n",
    "\n",
    "### Aislar los datos de la respuesta JSON\n",
    "Necesitamos comprobar las estructuras de los datos de la respuesta para saber dónde están nuestros datos."
   ]
  },
  {
   "cell_type": "code",
   "execution_count": 2,
   "metadata": {},
   "outputs": [
    {
     "data": {
      "text/plain": [
       "dict_keys(['type', 'metadata', 'features', 'bbox'])"
      ]
     },
     "execution_count": 2,
     "metadata": {},
     "output_type": "execute_result"
    }
   ],
   "source": [
    "earthquake_json = response.json()\n",
    "earthquake_json.keys()"
   ]
  },
  {
   "cell_type": "markdown",
   "metadata": {},
   "source": [
    "La API del USGS proporciona información sobre nuestra solicitud en la clave `metadata`. Tenga en cuenta que el resultado será diferente, independientemente del intervalo de fechas que elija, ya que la API incluye una marca de tiempo que indica cuándo se extrajeron los datos:"
   ]
  },
  {
   "cell_type": "code",
   "execution_count": 3,
   "metadata": {},
   "outputs": [
    {
     "data": {
      "text/plain": [
       "{'generated': 1701083577000,\n",
       " 'url': 'https://earthquake.usgs.gov/fdsnws/event/1/query?format=geojson&starttime=2023-10-27&endtime=2023-11-26',\n",
       " 'title': 'USGS Earthquakes',\n",
       " 'status': 200,\n",
       " 'api': '1.14.0',\n",
       " 'count': 9621}"
      ]
     },
     "execution_count": 3,
     "metadata": {},
     "output_type": "execute_result"
    }
   ],
   "source": [
    "earthquake_json['metadata']"
   ]
  },
  {
   "cell_type": "markdown",
   "metadata": {},
   "source": [
    "Cada elemento de la matriz JSON `features` es una fila de datos para nuestro marco de datos."
   ]
  },
  {
   "cell_type": "code",
   "execution_count": 4,
   "metadata": {},
   "outputs": [
    {
     "data": {
      "text/plain": [
       "list"
      ]
     },
     "execution_count": 4,
     "metadata": {},
     "output_type": "execute_result"
    }
   ],
   "source": [
    "type(earthquake_json['features'])"
   ]
  },
  {
   "cell_type": "markdown",
   "metadata": {},
   "source": [
    "Sus datos serán diferentes dependiendo de la fecha en que ejecute esto."
   ]
  },
  {
   "cell_type": "code",
   "execution_count": 5,
   "metadata": {},
   "outputs": [
    {
     "data": {
      "text/plain": [
       "{'type': 'Feature',\n",
       " 'properties': {'mag': 1.79999995,\n",
       "  'place': '13 km SSW of Volcano, Hawaii',\n",
       "  'time': 1700955832290,\n",
       "  'updated': 1700956011470,\n",
       "  'tz': None,\n",
       "  'url': 'https://earthquake.usgs.gov/earthquakes/eventpage/hv73663117',\n",
       "  'detail': 'https://earthquake.usgs.gov/fdsnws/event/1/query?eventid=hv73663117&format=geojson',\n",
       "  'felt': None,\n",
       "  'cdi': None,\n",
       "  'mmi': None,\n",
       "  'alert': None,\n",
       "  'status': 'automatic',\n",
       "  'tsunami': 0,\n",
       "  'sig': 50,\n",
       "  'net': 'hv',\n",
       "  'code': '73663117',\n",
       "  'ids': ',hv73663117,',\n",
       "  'sources': ',hv,',\n",
       "  'types': ',origin,phase-data,',\n",
       "  'nst': 17,\n",
       "  'dmin': None,\n",
       "  'rms': 0.0900000036,\n",
       "  'gap': 71,\n",
       "  'magType': 'md',\n",
       "  'type': 'earthquake',\n",
       "  'title': 'M 1.8 - 13 km SSW of Volcano, Hawaii'},\n",
       " 'geometry': {'type': 'Point',\n",
       "  'coordinates': [-155.299499511719, 19.3395004272461, 2.1800000667572]},\n",
       " 'id': 'hv73663117'}"
      ]
     },
     "execution_count": 5,
     "metadata": {},
     "output_type": "execute_result"
    }
   ],
   "source": [
    "earthquake_json['features'][0]"
   ]
  },
  {
   "cell_type": "code",
   "execution_count": 6,
   "metadata": {},
   "outputs": [
    {
     "data": {
      "text/plain": [
       "dict_keys(['type', 'properties', 'geometry', 'id'])"
      ]
     },
     "execution_count": 6,
     "metadata": {},
     "output_type": "execute_result"
    }
   ],
   "source": [
    "earthquake_json['features'][0].keys()"
   ]
  },
  {
   "cell_type": "markdown",
   "metadata": {},
   "source": [
    "### Convertir a DataFrame\n",
    "Necesitamos tomar la sección `properties` de cada entrada del array JSON `features` para crear nuestro dataframe."
   ]
  },
  {
   "cell_type": "code",
   "execution_count": 8,
   "metadata": {},
   "outputs": [
    {
     "data": {
      "text/html": [
       "<div>\n",
       "<style scoped>\n",
       "    .dataframe tbody tr th:only-of-type {\n",
       "        vertical-align: middle;\n",
       "    }\n",
       "\n",
       "    .dataframe tbody tr th {\n",
       "        vertical-align: top;\n",
       "    }\n",
       "\n",
       "    .dataframe thead th {\n",
       "        text-align: right;\n",
       "    }\n",
       "</style>\n",
       "<table border=\"1\" class=\"dataframe\">\n",
       "  <thead>\n",
       "    <tr style=\"text-align: right;\">\n",
       "      <th></th>\n",
       "      <th>type</th>\n",
       "      <th>properties</th>\n",
       "      <th>geometry</th>\n",
       "      <th>id</th>\n",
       "    </tr>\n",
       "  </thead>\n",
       "  <tbody>\n",
       "    <tr>\n",
       "      <th>0</th>\n",
       "      <td>Feature</td>\n",
       "      <td>{'mag': 1.79999995, 'place': '13 km SSW of Vol...</td>\n",
       "      <td>{'type': 'Point', 'coordinates': [-155.2994995...</td>\n",
       "      <td>hv73663117</td>\n",
       "    </tr>\n",
       "    <tr>\n",
       "      <th>1</th>\n",
       "      <td>Feature</td>\n",
       "      <td>{'mag': 1.95, 'place': '1 km N of Prattville, ...</td>\n",
       "      <td>{'type': 'Point', 'coordinates': [-121.1578369...</td>\n",
       "      <td>nc73967466</td>\n",
       "    </tr>\n",
       "    <tr>\n",
       "      <th>2</th>\n",
       "      <td>Feature</td>\n",
       "      <td>{'mag': 0.74, 'place': '14 km SSW of Searles V...</td>\n",
       "      <td>{'type': 'Point', 'coordinates': [-117.4528333...</td>\n",
       "      <td>ci39717962</td>\n",
       "    </tr>\n",
       "    <tr>\n",
       "      <th>3</th>\n",
       "      <td>Feature</td>\n",
       "      <td>{'mag': 0.61, 'place': None, 'time': 170095471...</td>\n",
       "      <td>{'type': 'Point', 'coordinates': [-155.2801666...</td>\n",
       "      <td>hv73663092</td>\n",
       "    </tr>\n",
       "    <tr>\n",
       "      <th>4</th>\n",
       "      <td>Feature</td>\n",
       "      <td>{'mag': 0.66, 'place': 'Island of Hawaii, Hawa...</td>\n",
       "      <td>{'type': 'Point', 'coordinates': [-155.2531666...</td>\n",
       "      <td>hv73663072</td>\n",
       "    </tr>\n",
       "    <tr>\n",
       "      <th>...</th>\n",
       "      <td>...</td>\n",
       "      <td>...</td>\n",
       "      <td>...</td>\n",
       "      <td>...</td>\n",
       "    </tr>\n",
       "    <tr>\n",
       "      <th>9616</th>\n",
       "      <td>Feature</td>\n",
       "      <td>{'mag': 0.3, 'place': '8 km NW of The Geysers,...</td>\n",
       "      <td>{'type': 'Point', 'coordinates': [-122.8188333...</td>\n",
       "      <td>nc73951885</td>\n",
       "    </tr>\n",
       "    <tr>\n",
       "      <th>9617</th>\n",
       "      <td>Feature</td>\n",
       "      <td>{'mag': 4.1, 'place': '283 km SSW of Severo-Ku...</td>\n",
       "      <td>{'type': 'Point', 'coordinates': [154.8447, 48...</td>\n",
       "      <td>us7000l82p</td>\n",
       "    </tr>\n",
       "    <tr>\n",
       "      <th>9618</th>\n",
       "      <td>Feature</td>\n",
       "      <td>{'mag': 1.7, 'place': '6 km NNE of Pecos, Texa...</td>\n",
       "      <td>{'type': 'Point', 'coordinates': [-103.476, 31...</td>\n",
       "      <td>tx2023vahp</td>\n",
       "    </tr>\n",
       "    <tr>\n",
       "      <th>9619</th>\n",
       "      <td>Feature</td>\n",
       "      <td>{'mag': 2.6, 'place': '111 km S of False Pass,...</td>\n",
       "      <td>{'type': 'Point', 'coordinates': [-163.1249, 5...</td>\n",
       "      <td>us6000lnn7</td>\n",
       "    </tr>\n",
       "    <tr>\n",
       "      <th>9620</th>\n",
       "      <td>Feature</td>\n",
       "      <td>{'mag': 1.5, 'place': '51 km WNW of Ninilchik,...</td>\n",
       "      <td>{'type': 'Point', 'coordinates': [-152.5467, 6...</td>\n",
       "      <td>ak023ds58dc1</td>\n",
       "    </tr>\n",
       "  </tbody>\n",
       "</table>\n",
       "<p>9621 rows × 4 columns</p>\n",
       "</div>"
      ],
      "text/plain": [
       "         type                                         properties  \\\n",
       "0     Feature  {'mag': 1.79999995, 'place': '13 km SSW of Vol...   \n",
       "1     Feature  {'mag': 1.95, 'place': '1 km N of Prattville, ...   \n",
       "2     Feature  {'mag': 0.74, 'place': '14 km SSW of Searles V...   \n",
       "3     Feature  {'mag': 0.61, 'place': None, 'time': 170095471...   \n",
       "4     Feature  {'mag': 0.66, 'place': 'Island of Hawaii, Hawa...   \n",
       "...       ...                                                ...   \n",
       "9616  Feature  {'mag': 0.3, 'place': '8 km NW of The Geysers,...   \n",
       "9617  Feature  {'mag': 4.1, 'place': '283 km SSW of Severo-Ku...   \n",
       "9618  Feature  {'mag': 1.7, 'place': '6 km NNE of Pecos, Texa...   \n",
       "9619  Feature  {'mag': 2.6, 'place': '111 km S of False Pass,...   \n",
       "9620  Feature  {'mag': 1.5, 'place': '51 km WNW of Ninilchik,...   \n",
       "\n",
       "                                               geometry            id  \n",
       "0     {'type': 'Point', 'coordinates': [-155.2994995...    hv73663117  \n",
       "1     {'type': 'Point', 'coordinates': [-121.1578369...    nc73967466  \n",
       "2     {'type': 'Point', 'coordinates': [-117.4528333...    ci39717962  \n",
       "3     {'type': 'Point', 'coordinates': [-155.2801666...    hv73663092  \n",
       "4     {'type': 'Point', 'coordinates': [-155.2531666...    hv73663072  \n",
       "...                                                 ...           ...  \n",
       "9616  {'type': 'Point', 'coordinates': [-122.8188333...    nc73951885  \n",
       "9617  {'type': 'Point', 'coordinates': [154.8447, 48...    us7000l82p  \n",
       "9618  {'type': 'Point', 'coordinates': [-103.476, 31...    tx2023vahp  \n",
       "9619  {'type': 'Point', 'coordinates': [-163.1249, 5...    us6000lnn7  \n",
       "9620  {'type': 'Point', 'coordinates': [-152.5467, 6...  ak023ds58dc1  \n",
       "\n",
       "[9621 rows x 4 columns]"
      ]
     },
     "execution_count": 8,
     "metadata": {},
     "output_type": "execute_result"
    }
   ],
   "source": [
    "pd.DataFrame(earthquake_json['features'])"
   ]
  },
  {
   "cell_type": "code",
   "execution_count": 7,
   "metadata": {},
   "outputs": [
    {
     "data": {
      "text/html": [
       "<div>\n",
       "<style scoped>\n",
       "    .dataframe tbody tr th:only-of-type {\n",
       "        vertical-align: middle;\n",
       "    }\n",
       "\n",
       "    .dataframe tbody tr th {\n",
       "        vertical-align: top;\n",
       "    }\n",
       "\n",
       "    .dataframe thead th {\n",
       "        text-align: right;\n",
       "    }\n",
       "</style>\n",
       "<table border=\"1\" class=\"dataframe\">\n",
       "  <thead>\n",
       "    <tr style=\"text-align: right;\">\n",
       "      <th></th>\n",
       "      <th>mag</th>\n",
       "      <th>place</th>\n",
       "      <th>time</th>\n",
       "      <th>updated</th>\n",
       "      <th>tz</th>\n",
       "      <th>url</th>\n",
       "      <th>detail</th>\n",
       "      <th>felt</th>\n",
       "      <th>cdi</th>\n",
       "      <th>mmi</th>\n",
       "      <th>...</th>\n",
       "      <th>ids</th>\n",
       "      <th>sources</th>\n",
       "      <th>types</th>\n",
       "      <th>nst</th>\n",
       "      <th>dmin</th>\n",
       "      <th>rms</th>\n",
       "      <th>gap</th>\n",
       "      <th>magType</th>\n",
       "      <th>type</th>\n",
       "      <th>title</th>\n",
       "    </tr>\n",
       "  </thead>\n",
       "  <tbody>\n",
       "    <tr>\n",
       "      <th>0</th>\n",
       "      <td>1.80</td>\n",
       "      <td>13 km SSW of Volcano, Hawaii</td>\n",
       "      <td>1700955832290</td>\n",
       "      <td>1700956011470</td>\n",
       "      <td>None</td>\n",
       "      <td>https://earthquake.usgs.gov/earthquakes/eventp...</td>\n",
       "      <td>https://earthquake.usgs.gov/fdsnws/event/1/que...</td>\n",
       "      <td>NaN</td>\n",
       "      <td>NaN</td>\n",
       "      <td>NaN</td>\n",
       "      <td>...</td>\n",
       "      <td>,hv73663117,</td>\n",
       "      <td>,hv,</td>\n",
       "      <td>,origin,phase-data,</td>\n",
       "      <td>17.0</td>\n",
       "      <td>NaN</td>\n",
       "      <td>0.09</td>\n",
       "      <td>71.0</td>\n",
       "      <td>md</td>\n",
       "      <td>earthquake</td>\n",
       "      <td>M 1.8 - 13 km SSW of Volcano, Hawaii</td>\n",
       "    </tr>\n",
       "    <tr>\n",
       "      <th>1</th>\n",
       "      <td>1.95</td>\n",
       "      <td>1 km N of Prattville, CA</td>\n",
       "      <td>1700955302300</td>\n",
       "      <td>1700967733993</td>\n",
       "      <td>None</td>\n",
       "      <td>https://earthquake.usgs.gov/earthquakes/eventp...</td>\n",
       "      <td>https://earthquake.usgs.gov/fdsnws/event/1/que...</td>\n",
       "      <td>NaN</td>\n",
       "      <td>NaN</td>\n",
       "      <td>NaN</td>\n",
       "      <td>...</td>\n",
       "      <td>,nc73967466,</td>\n",
       "      <td>,nc,</td>\n",
       "      <td>,nearby-cities,origin,phase-data,scitech-link,</td>\n",
       "      <td>5.0</td>\n",
       "      <td>0.2418</td>\n",
       "      <td>0.01</td>\n",
       "      <td>193.0</td>\n",
       "      <td>md</td>\n",
       "      <td>earthquake</td>\n",
       "      <td>M 2.0 - 1 km N of Prattville, CA</td>\n",
       "    </tr>\n",
       "    <tr>\n",
       "      <th>2</th>\n",
       "      <td>0.74</td>\n",
       "      <td>14 km SSW of Searles Valley, CA</td>\n",
       "      <td>1700955266830</td>\n",
       "      <td>1701015584009</td>\n",
       "      <td>None</td>\n",
       "      <td>https://earthquake.usgs.gov/earthquakes/eventp...</td>\n",
       "      <td>https://earthquake.usgs.gov/fdsnws/event/1/que...</td>\n",
       "      <td>NaN</td>\n",
       "      <td>NaN</td>\n",
       "      <td>NaN</td>\n",
       "      <td>...</td>\n",
       "      <td>,ci39717962,</td>\n",
       "      <td>,ci,</td>\n",
       "      <td>,nearby-cities,origin,phase-data,scitech-link,</td>\n",
       "      <td>22.0</td>\n",
       "      <td>0.0275</td>\n",
       "      <td>0.13</td>\n",
       "      <td>59.0</td>\n",
       "      <td>ml</td>\n",
       "      <td>earthquake</td>\n",
       "      <td>M 0.7 - 14 km SSW of Searles Valley, CA</td>\n",
       "    </tr>\n",
       "    <tr>\n",
       "      <th>3</th>\n",
       "      <td>0.61</td>\n",
       "      <td>None</td>\n",
       "      <td>1700954715210</td>\n",
       "      <td>1700956082230</td>\n",
       "      <td>None</td>\n",
       "      <td>https://earthquake.usgs.gov/earthquakes/eventp...</td>\n",
       "      <td>https://earthquake.usgs.gov/fdsnws/event/1/que...</td>\n",
       "      <td>NaN</td>\n",
       "      <td>NaN</td>\n",
       "      <td>NaN</td>\n",
       "      <td>...</td>\n",
       "      <td>,hv73663092,</td>\n",
       "      <td>,hv,</td>\n",
       "      <td>,origin,phase-data,</td>\n",
       "      <td>18.0</td>\n",
       "      <td>NaN</td>\n",
       "      <td>0.07</td>\n",
       "      <td>58.0</td>\n",
       "      <td>md</td>\n",
       "      <td>earthquake</td>\n",
       "      <td>M 0.6 -</td>\n",
       "    </tr>\n",
       "    <tr>\n",
       "      <th>4</th>\n",
       "      <td>0.66</td>\n",
       "      <td>Island of Hawaii, Hawaii</td>\n",
       "      <td>1700954346350</td>\n",
       "      <td>1700955688640</td>\n",
       "      <td>None</td>\n",
       "      <td>https://earthquake.usgs.gov/earthquakes/eventp...</td>\n",
       "      <td>https://earthquake.usgs.gov/fdsnws/event/1/que...</td>\n",
       "      <td>NaN</td>\n",
       "      <td>NaN</td>\n",
       "      <td>NaN</td>\n",
       "      <td>...</td>\n",
       "      <td>,hv73663072,</td>\n",
       "      <td>,hv,</td>\n",
       "      <td>,origin,phase-data,</td>\n",
       "      <td>16.0</td>\n",
       "      <td>NaN</td>\n",
       "      <td>0.08</td>\n",
       "      <td>86.0</td>\n",
       "      <td>md</td>\n",
       "      <td>earthquake</td>\n",
       "      <td>M 0.7 - Island of Hawaii, Hawaii</td>\n",
       "    </tr>\n",
       "  </tbody>\n",
       "</table>\n",
       "<p>5 rows × 26 columns</p>\n",
       "</div>"
      ],
      "text/plain": [
       "    mag                            place           time        updated    tz  \\\n",
       "0  1.80     13 km SSW of Volcano, Hawaii  1700955832290  1700956011470  None   \n",
       "1  1.95         1 km N of Prattville, CA  1700955302300  1700967733993  None   \n",
       "2  0.74  14 km SSW of Searles Valley, CA  1700955266830  1701015584009  None   \n",
       "3  0.61                             None  1700954715210  1700956082230  None   \n",
       "4  0.66         Island of Hawaii, Hawaii  1700954346350  1700955688640  None   \n",
       "\n",
       "                                                 url  \\\n",
       "0  https://earthquake.usgs.gov/earthquakes/eventp...   \n",
       "1  https://earthquake.usgs.gov/earthquakes/eventp...   \n",
       "2  https://earthquake.usgs.gov/earthquakes/eventp...   \n",
       "3  https://earthquake.usgs.gov/earthquakes/eventp...   \n",
       "4  https://earthquake.usgs.gov/earthquakes/eventp...   \n",
       "\n",
       "                                              detail  felt  cdi  mmi  ...  \\\n",
       "0  https://earthquake.usgs.gov/fdsnws/event/1/que...   NaN  NaN  NaN  ...   \n",
       "1  https://earthquake.usgs.gov/fdsnws/event/1/que...   NaN  NaN  NaN  ...   \n",
       "2  https://earthquake.usgs.gov/fdsnws/event/1/que...   NaN  NaN  NaN  ...   \n",
       "3  https://earthquake.usgs.gov/fdsnws/event/1/que...   NaN  NaN  NaN  ...   \n",
       "4  https://earthquake.usgs.gov/fdsnws/event/1/que...   NaN  NaN  NaN  ...   \n",
       "\n",
       "            ids sources                                           types   nst  \\\n",
       "0  ,hv73663117,    ,hv,                             ,origin,phase-data,  17.0   \n",
       "1  ,nc73967466,    ,nc,  ,nearby-cities,origin,phase-data,scitech-link,   5.0   \n",
       "2  ,ci39717962,    ,ci,  ,nearby-cities,origin,phase-data,scitech-link,  22.0   \n",
       "3  ,hv73663092,    ,hv,                             ,origin,phase-data,  18.0   \n",
       "4  ,hv73663072,    ,hv,                             ,origin,phase-data,  16.0   \n",
       "\n",
       "     dmin   rms    gap magType        type  \\\n",
       "0     NaN  0.09   71.0      md  earthquake   \n",
       "1  0.2418  0.01  193.0      md  earthquake   \n",
       "2  0.0275  0.13   59.0      ml  earthquake   \n",
       "3     NaN  0.07   58.0      md  earthquake   \n",
       "4     NaN  0.08   86.0      md  earthquake   \n",
       "\n",
       "                                     title  \n",
       "0     M 1.8 - 13 km SSW of Volcano, Hawaii  \n",
       "1         M 2.0 - 1 km N of Prattville, CA  \n",
       "2  M 0.7 - 14 km SSW of Searles Valley, CA  \n",
       "3                                 M 0.6 -   \n",
       "4         M 0.7 - Island of Hawaii, Hawaii  \n",
       "\n",
       "[5 rows x 26 columns]"
      ]
     },
     "execution_count": 7,
     "metadata": {},
     "output_type": "execute_result"
    }
   ],
   "source": [
    "earthquake_properties_data = [\n",
    "    quake['properties'] for quake in earthquake_json['features']\n",
    "]\n",
    "# lo que hago es iterar por cada elemento de la lista \"earthquake_json['features']\" y cuando el elemento sea \"quake['properties']\" lo anexo\n",
    "df = pd.DataFrame(earthquake_properties_data)\n",
    "df.head()"
   ]
  },
  {
   "cell_type": "markdown",
   "metadata": {},
   "source": [
    "### (Opcional) Guardar los datos en un CSV"
   ]
  },
  {
   "cell_type": "code",
   "execution_count": null,
   "metadata": {},
   "outputs": [],
   "source": [
    "df.to_csv('earthquakes.csv', index=False)"
   ]
  },
  {
   "cell_type": "markdown",
   "metadata": {},
   "source": [
    "<hr>\n",
    "<div>\n",
    "    <a href=\"./2-creando_dataframes.ipynb\">\n",
    "        <button style=\"float: left;\">&#8592; Notebook Anterior</button>\n",
    "    </a>\n",
    "    <a href=\"./4-inspeccionando_dataframes.ipynb\">\n",
    "        <button style=\"float: right;\">Siguiente Notebook &#8594;</button>\n",
    "    </a>\n",
    "</div>\n",
    "<br>\n",
    "<hr>"
   ]
  }
 ],
 "metadata": {
  "kernelspec": {
   "display_name": "Python 3",
   "language": "python",
   "name": "python3"
  },
  "language_info": {
   "codemirror_mode": {
    "name": "ipython",
    "version": 3
   },
   "file_extension": ".py",
   "mimetype": "text/x-python",
   "name": "python",
   "nbconvert_exporter": "python",
   "pygments_lexer": "ipython3",
   "version": "3.11.3"
  }
 },
 "nbformat": 4,
 "nbformat_minor": 4
}
