{
 "cells": [
  {
   "cell_type": "markdown",
   "metadata": {},
   "source": [
    "# Creación de Pandas DataFrames a partir de peticiones API\n",
    "En este ejemplo, utilizaremos la API del U.S. Geological Survey para obtener un objeto JSON de datos de terremotos y convertirlo en un `pandas.DataFrame`.\n",
    "\n",
    "API DEL USGS: https://earthquake.usgs.gov/fdsnws/event/1/"
   ]
  },
  {
   "cell_type": "markdown",
   "metadata": {},
   "source": [
    "### Obtener datos de la API"
   ]
  },
  {
   "cell_type": "code",
   "execution_count": 1,
   "metadata": {},
   "outputs": [
    {
     "data": {
      "text/plain": [
       "200"
      ]
     },
     "execution_count": 1,
     "metadata": {},
     "output_type": "execute_result"
    }
   ],
   "source": [
    "import datetime as dt   # para pedir todas las fechas que quiera\n",
    "import pandas as pd\n",
    "import requests\n",
    "\n",
    "yesterday = dt.date.today() - dt.timedelta(days=1)\n",
    "api = 'https://earthquake.usgs.gov/fdsnws/event/1/query'\n",
    "payload = {\n",
    "    'format': 'geojson',\n",
    "    'starttime': yesterday - dt.timedelta(days=30),\n",
    "    'endtime': yesterday\n",
    "}\n",
    "response = requests.get(api, params=payload)\n",
    "\n",
    "# asegurémonos de que la solicitud fue correcta\n",
    "response.status_code"
   ]
  },
  {
   "cell_type": "markdown",
   "metadata": {},
   "source": [
    "Una respuesta de 200 significa OK, así que podemos extraer los datos del resultado. Como le pedimos a la API una carga JSON, podemos extraerla de la respuesta con el método `json()`.\n",
    "\n",
    "### Aislar los datos de la respuesta JSON\n",
    "Necesitamos comprobar las estructuras de los datos de la respuesta para saber dónde están nuestros datos."
   ]
  },
  {
   "cell_type": "code",
   "execution_count": 2,
   "metadata": {},
   "outputs": [
    {
     "data": {
      "text/plain": [
       "dict_keys(['type', 'metadata', 'features', 'bbox'])"
      ]
     },
     "execution_count": 2,
     "metadata": {},
     "output_type": "execute_result"
    }
   ],
   "source": [
    "earthquake_json = response.json()\n",
    "earthquake_json.keys()"
   ]
  },
  {
   "cell_type": "markdown",
   "metadata": {},
   "source": [
    "La API del USGS proporciona información sobre nuestra solicitud en la clave `metadata`. Tenga en cuenta que el resultado será diferente, independientemente del intervalo de fechas que elija, ya que la API incluye una marca de tiempo que indica cuándo se extrajeron los datos:"
   ]
  },
  {
   "cell_type": "code",
   "execution_count": 3,
   "metadata": {},
   "outputs": [
    {
     "data": {
      "text/plain": [
       "{'generated': 1702292463000,\n",
       " 'url': 'https://earthquake.usgs.gov/fdsnws/event/1/query?format=geojson&starttime=2023-11-10&endtime=2023-12-10',\n",
       " 'title': 'USGS Earthquakes',\n",
       " 'status': 200,\n",
       " 'api': '1.14.0',\n",
       " 'count': 9979}"
      ]
     },
     "execution_count": 3,
     "metadata": {},
     "output_type": "execute_result"
    }
   ],
   "source": [
    "earthquake_json['metadata']"
   ]
  },
  {
   "cell_type": "markdown",
   "metadata": {},
   "source": [
    "Cada elemento de la matriz JSON `features` es una fila de datos para nuestro marco de datos."
   ]
  },
  {
   "cell_type": "code",
   "execution_count": 4,
   "metadata": {},
   "outputs": [
    {
     "data": {
      "text/plain": [
       "list"
      ]
     },
     "execution_count": 4,
     "metadata": {},
     "output_type": "execute_result"
    }
   ],
   "source": [
    "type(earthquake_json['features'])"
   ]
  },
  {
   "cell_type": "markdown",
   "metadata": {},
   "source": [
    "Sus datos serán diferentes dependiendo de la fecha en que ejecute esto."
   ]
  },
  {
   "cell_type": "code",
   "execution_count": 5,
   "metadata": {},
   "outputs": [
    {
     "data": {
      "text/plain": [
       "{'type': 'Feature',\n",
       " 'properties': {'mag': 4.7,\n",
       "  'place': '40 km NE of Barcelona, Philippines',\n",
       "  'time': 1702166342418,\n",
       "  'updated': 1702167408040,\n",
       "  'tz': None,\n",
       "  'url': 'https://earthquake.usgs.gov/earthquakes/eventpage/us7000lhu1',\n",
       "  'detail': 'https://earthquake.usgs.gov/fdsnws/event/1/query?eventid=us7000lhu1&format=geojson',\n",
       "  'felt': None,\n",
       "  'cdi': None,\n",
       "  'mmi': None,\n",
       "  'alert': None,\n",
       "  'status': 'reviewed',\n",
       "  'tsunami': 0,\n",
       "  'sig': 340,\n",
       "  'net': 'us',\n",
       "  'code': '7000lhu1',\n",
       "  'ids': ',us7000lhu1,',\n",
       "  'sources': ',us,',\n",
       "  'types': ',origin,phase-data,',\n",
       "  'nst': 45,\n",
       "  'dmin': 7.604,\n",
       "  'rms': 0.65,\n",
       "  'gap': 126,\n",
       "  'magType': 'mb',\n",
       "  'type': 'earthquake',\n",
       "  'title': 'M 4.7 - 40 km NE of Barcelona, Philippines'},\n",
       " 'geometry': {'type': 'Point', 'coordinates': [126.7106, 8.3981, 65.36]},\n",
       " 'id': 'us7000lhu1'}"
      ]
     },
     "execution_count": 5,
     "metadata": {},
     "output_type": "execute_result"
    }
   ],
   "source": [
    "earthquake_json['features'][0]"
   ]
  },
  {
   "cell_type": "code",
   "execution_count": 6,
   "metadata": {},
   "outputs": [
    {
     "data": {
      "text/plain": [
       "dict_keys(['type', 'properties', 'geometry', 'id'])"
      ]
     },
     "execution_count": 6,
     "metadata": {},
     "output_type": "execute_result"
    }
   ],
   "source": [
    "earthquake_json['features'][0].keys()"
   ]
  },
  {
   "cell_type": "markdown",
   "metadata": {},
   "source": [
    "### Convertir a DataFrame\n",
    "Necesitamos tomar la sección `properties` de cada entrada del array JSON `features` para crear nuestro dataframe."
   ]
  },
  {
   "cell_type": "code",
   "execution_count": 7,
   "metadata": {},
   "outputs": [
    {
     "data": {
      "text/html": [
       "<div>\n",
       "<style scoped>\n",
       "    .dataframe tbody tr th:only-of-type {\n",
       "        vertical-align: middle;\n",
       "    }\n",
       "\n",
       "    .dataframe tbody tr th {\n",
       "        vertical-align: top;\n",
       "    }\n",
       "\n",
       "    .dataframe thead th {\n",
       "        text-align: right;\n",
       "    }\n",
       "</style>\n",
       "<table border=\"1\" class=\"dataframe\">\n",
       "  <thead>\n",
       "    <tr style=\"text-align: right;\">\n",
       "      <th></th>\n",
       "      <th>type</th>\n",
       "      <th>properties</th>\n",
       "      <th>geometry</th>\n",
       "      <th>id</th>\n",
       "    </tr>\n",
       "  </thead>\n",
       "  <tbody>\n",
       "    <tr>\n",
       "      <th>0</th>\n",
       "      <td>Feature</td>\n",
       "      <td>{'mag': 4.7, 'place': '40 km NE of Barcelona, ...</td>\n",
       "      <td>{'type': 'Point', 'coordinates': [126.7106, 8....</td>\n",
       "      <td>us7000lhu1</td>\n",
       "    </tr>\n",
       "    <tr>\n",
       "      <th>1</th>\n",
       "      <td>Feature</td>\n",
       "      <td>{'mag': 1.7, 'place': '17 km WNW of Mentone, T...</td>\n",
       "      <td>{'type': 'Point', 'coordinates': [-103.754, 31...</td>\n",
       "      <td>tx2023ycrh</td>\n",
       "    </tr>\n",
       "    <tr>\n",
       "      <th>2</th>\n",
       "      <td>Feature</td>\n",
       "      <td>{'mag': 5, 'place': 'Reykjanes Ridge', 'time':...</td>\n",
       "      <td>{'type': 'Point', 'coordinates': [-34.2664, 57...</td>\n",
       "      <td>us7000lhtz</td>\n",
       "    </tr>\n",
       "    <tr>\n",
       "      <th>3</th>\n",
       "      <td>Feature</td>\n",
       "      <td>{'mag': 3.73, 'place': '146 km NNE of Cruz Bay...</td>\n",
       "      <td>{'type': 'Point', 'coordinates': [-64.4673, 19...</td>\n",
       "      <td>pr2023343003</td>\n",
       "    </tr>\n",
       "    <tr>\n",
       "      <th>4</th>\n",
       "      <td>Feature</td>\n",
       "      <td>{'mag': 0.79, 'place': '6 km WNW of The Geyser...</td>\n",
       "      <td>{'type': 'Point', 'coordinates': [-122.8264999...</td>\n",
       "      <td>nc73973931</td>\n",
       "    </tr>\n",
       "    <tr>\n",
       "      <th>...</th>\n",
       "      <td>...</td>\n",
       "      <td>...</td>\n",
       "      <td>...</td>\n",
       "      <td>...</td>\n",
       "    </tr>\n",
       "    <tr>\n",
       "      <th>9974</th>\n",
       "      <td>Feature</td>\n",
       "      <td>{'mag': 2.36, 'place': '5 km N of Pinnacles, C...</td>\n",
       "      <td>{'type': 'Point', 'coordinates': [-121.1335, 3...</td>\n",
       "      <td>nc73960691</td>\n",
       "    </tr>\n",
       "    <tr>\n",
       "      <th>9975</th>\n",
       "      <td>Feature</td>\n",
       "      <td>{'mag': 1.5, 'place': '69 km ESE of Denali Nat...</td>\n",
       "      <td>{'type': 'Point', 'coordinates': [-150.5195, 6...</td>\n",
       "      <td>ak023efasp8t</td>\n",
       "    </tr>\n",
       "    <tr>\n",
       "      <th>9976</th>\n",
       "      <td>Feature</td>\n",
       "      <td>{'mag': 1.8, 'place': '89 km ENE of Ugashik, A...</td>\n",
       "      <td>{'type': 'Point', 'coordinates': [-155.996, 57...</td>\n",
       "      <td>ak023efasbdc</td>\n",
       "    </tr>\n",
       "    <tr>\n",
       "      <th>9977</th>\n",
       "      <td>Feature</td>\n",
       "      <td>{'mag': 0.92, 'place': '12 km NNE of Atka, Ala...</td>\n",
       "      <td>{'type': 'Point', 'coordinates': [-174.1563333...</td>\n",
       "      <td>av91121193</td>\n",
       "    </tr>\n",
       "    <tr>\n",
       "      <th>9978</th>\n",
       "      <td>Feature</td>\n",
       "      <td>{'mag': 0.92, 'place': '12 km NNE of Atka, Ala...</td>\n",
       "      <td>{'type': 'Point', 'coordinates': [-174.1366666...</td>\n",
       "      <td>av92112941</td>\n",
       "    </tr>\n",
       "  </tbody>\n",
       "</table>\n",
       "<p>9979 rows × 4 columns</p>\n",
       "</div>"
      ],
      "text/plain": [
       "         type                                         properties  \\\n",
       "0     Feature  {'mag': 4.7, 'place': '40 km NE of Barcelona, ...   \n",
       "1     Feature  {'mag': 1.7, 'place': '17 km WNW of Mentone, T...   \n",
       "2     Feature  {'mag': 5, 'place': 'Reykjanes Ridge', 'time':...   \n",
       "3     Feature  {'mag': 3.73, 'place': '146 km NNE of Cruz Bay...   \n",
       "4     Feature  {'mag': 0.79, 'place': '6 km WNW of The Geyser...   \n",
       "...       ...                                                ...   \n",
       "9974  Feature  {'mag': 2.36, 'place': '5 km N of Pinnacles, C...   \n",
       "9975  Feature  {'mag': 1.5, 'place': '69 km ESE of Denali Nat...   \n",
       "9976  Feature  {'mag': 1.8, 'place': '89 km ENE of Ugashik, A...   \n",
       "9977  Feature  {'mag': 0.92, 'place': '12 km NNE of Atka, Ala...   \n",
       "9978  Feature  {'mag': 0.92, 'place': '12 km NNE of Atka, Ala...   \n",
       "\n",
       "                                               geometry            id  \n",
       "0     {'type': 'Point', 'coordinates': [126.7106, 8....    us7000lhu1  \n",
       "1     {'type': 'Point', 'coordinates': [-103.754, 31...    tx2023ycrh  \n",
       "2     {'type': 'Point', 'coordinates': [-34.2664, 57...    us7000lhtz  \n",
       "3     {'type': 'Point', 'coordinates': [-64.4673, 19...  pr2023343003  \n",
       "4     {'type': 'Point', 'coordinates': [-122.8264999...    nc73973931  \n",
       "...                                                 ...           ...  \n",
       "9974  {'type': 'Point', 'coordinates': [-121.1335, 3...    nc73960691  \n",
       "9975  {'type': 'Point', 'coordinates': [-150.5195, 6...  ak023efasp8t  \n",
       "9976  {'type': 'Point', 'coordinates': [-155.996, 57...  ak023efasbdc  \n",
       "9977  {'type': 'Point', 'coordinates': [-174.1563333...    av91121193  \n",
       "9978  {'type': 'Point', 'coordinates': [-174.1366666...    av92112941  \n",
       "\n",
       "[9979 rows x 4 columns]"
      ]
     },
     "execution_count": 7,
     "metadata": {},
     "output_type": "execute_result"
    }
   ],
   "source": [
    "pd.DataFrame(earthquake_json['features'])"
   ]
  },
  {
   "cell_type": "code",
   "execution_count": 8,
   "metadata": {},
   "outputs": [
    {
     "data": {
      "text/html": [
       "<div>\n",
       "<style scoped>\n",
       "    .dataframe tbody tr th:only-of-type {\n",
       "        vertical-align: middle;\n",
       "    }\n",
       "\n",
       "    .dataframe tbody tr th {\n",
       "        vertical-align: top;\n",
       "    }\n",
       "\n",
       "    .dataframe thead th {\n",
       "        text-align: right;\n",
       "    }\n",
       "</style>\n",
       "<table border=\"1\" class=\"dataframe\">\n",
       "  <thead>\n",
       "    <tr style=\"text-align: right;\">\n",
       "      <th></th>\n",
       "      <th>mag</th>\n",
       "      <th>place</th>\n",
       "      <th>time</th>\n",
       "      <th>updated</th>\n",
       "      <th>tz</th>\n",
       "      <th>url</th>\n",
       "      <th>detail</th>\n",
       "      <th>felt</th>\n",
       "      <th>cdi</th>\n",
       "      <th>mmi</th>\n",
       "      <th>...</th>\n",
       "      <th>ids</th>\n",
       "      <th>sources</th>\n",
       "      <th>types</th>\n",
       "      <th>nst</th>\n",
       "      <th>dmin</th>\n",
       "      <th>rms</th>\n",
       "      <th>gap</th>\n",
       "      <th>magType</th>\n",
       "      <th>type</th>\n",
       "      <th>title</th>\n",
       "    </tr>\n",
       "  </thead>\n",
       "  <tbody>\n",
       "    <tr>\n",
       "      <th>0</th>\n",
       "      <td>4.70</td>\n",
       "      <td>40 km NE of Barcelona, Philippines</td>\n",
       "      <td>1702166342418</td>\n",
       "      <td>1702167408040</td>\n",
       "      <td>None</td>\n",
       "      <td>https://earthquake.usgs.gov/earthquakes/eventp...</td>\n",
       "      <td>https://earthquake.usgs.gov/fdsnws/event/1/que...</td>\n",
       "      <td>NaN</td>\n",
       "      <td>NaN</td>\n",
       "      <td>NaN</td>\n",
       "      <td>...</td>\n",
       "      <td>,us7000lhu1,</td>\n",
       "      <td>,us,</td>\n",
       "      <td>,origin,phase-data,</td>\n",
       "      <td>45.0</td>\n",
       "      <td>7.604000</td>\n",
       "      <td>0.65</td>\n",
       "      <td>126.0</td>\n",
       "      <td>mb</td>\n",
       "      <td>earthquake</td>\n",
       "      <td>M 4.7 - 40 km NE of Barcelona, Philippines</td>\n",
       "    </tr>\n",
       "    <tr>\n",
       "      <th>1</th>\n",
       "      <td>1.70</td>\n",
       "      <td>17 km WNW of Mentone, Texas</td>\n",
       "      <td>1702165945605</td>\n",
       "      <td>1702167684698</td>\n",
       "      <td>None</td>\n",
       "      <td>https://earthquake.usgs.gov/earthquakes/eventp...</td>\n",
       "      <td>https://earthquake.usgs.gov/fdsnws/event/1/que...</td>\n",
       "      <td>NaN</td>\n",
       "      <td>NaN</td>\n",
       "      <td>NaN</td>\n",
       "      <td>...</td>\n",
       "      <td>,tx2023ycrh,</td>\n",
       "      <td>,tx,</td>\n",
       "      <td>,origin,phase-data,</td>\n",
       "      <td>17.0</td>\n",
       "      <td>0.100000</td>\n",
       "      <td>0.50</td>\n",
       "      <td>109.0</td>\n",
       "      <td>mlv</td>\n",
       "      <td>earthquake</td>\n",
       "      <td>M 1.7 - 17 km WNW of Mentone, Texas</td>\n",
       "    </tr>\n",
       "    <tr>\n",
       "      <th>2</th>\n",
       "      <td>5.00</td>\n",
       "      <td>Reykjanes Ridge</td>\n",
       "      <td>1702165696233</td>\n",
       "      <td>1702167097040</td>\n",
       "      <td>None</td>\n",
       "      <td>https://earthquake.usgs.gov/earthquakes/eventp...</td>\n",
       "      <td>https://earthquake.usgs.gov/fdsnws/event/1/que...</td>\n",
       "      <td>NaN</td>\n",
       "      <td>NaN</td>\n",
       "      <td>NaN</td>\n",
       "      <td>...</td>\n",
       "      <td>,us7000lhtz,</td>\n",
       "      <td>,us,</td>\n",
       "      <td>,origin,phase-data,</td>\n",
       "      <td>54.0</td>\n",
       "      <td>6.986000</td>\n",
       "      <td>0.72</td>\n",
       "      <td>86.0</td>\n",
       "      <td>mb</td>\n",
       "      <td>earthquake</td>\n",
       "      <td>M 5.0 - Reykjanes Ridge</td>\n",
       "    </tr>\n",
       "    <tr>\n",
       "      <th>3</th>\n",
       "      <td>3.73</td>\n",
       "      <td>146 km NNE of Cruz Bay, U.S. Virgin Islands</td>\n",
       "      <td>1702165513570</td>\n",
       "      <td>1702170749040</td>\n",
       "      <td>None</td>\n",
       "      <td>https://earthquake.usgs.gov/earthquakes/eventp...</td>\n",
       "      <td>https://earthquake.usgs.gov/fdsnws/event/1/que...</td>\n",
       "      <td>NaN</td>\n",
       "      <td>NaN</td>\n",
       "      <td>NaN</td>\n",
       "      <td>...</td>\n",
       "      <td>,us7000lhu2,pr2023343003,</td>\n",
       "      <td>,us,pr,</td>\n",
       "      <td>,origin,phase-data,</td>\n",
       "      <td>14.0</td>\n",
       "      <td>1.207700</td>\n",
       "      <td>0.29</td>\n",
       "      <td>306.0</td>\n",
       "      <td>md</td>\n",
       "      <td>earthquake</td>\n",
       "      <td>M 3.7 - 146 km NNE of Cruz Bay, U.S. Virgin Is...</td>\n",
       "    </tr>\n",
       "    <tr>\n",
       "      <th>4</th>\n",
       "      <td>0.79</td>\n",
       "      <td>6 km WNW of The Geysers, CA</td>\n",
       "      <td>1702164523680</td>\n",
       "      <td>1702167914212</td>\n",
       "      <td>None</td>\n",
       "      <td>https://earthquake.usgs.gov/earthquakes/eventp...</td>\n",
       "      <td>https://earthquake.usgs.gov/fdsnws/event/1/que...</td>\n",
       "      <td>NaN</td>\n",
       "      <td>NaN</td>\n",
       "      <td>NaN</td>\n",
       "      <td>...</td>\n",
       "      <td>,nc73973931,</td>\n",
       "      <td>,nc,</td>\n",
       "      <td>,nearby-cities,origin,phase-data,scitech-link,</td>\n",
       "      <td>8.0</td>\n",
       "      <td>0.006717</td>\n",
       "      <td>0.02</td>\n",
       "      <td>105.0</td>\n",
       "      <td>md</td>\n",
       "      <td>earthquake</td>\n",
       "      <td>M 0.8 - 6 km WNW of The Geysers, CA</td>\n",
       "    </tr>\n",
       "  </tbody>\n",
       "</table>\n",
       "<p>5 rows × 26 columns</p>\n",
       "</div>"
      ],
      "text/plain": [
       "    mag                                        place           time  \\\n",
       "0  4.70           40 km NE of Barcelona, Philippines  1702166342418   \n",
       "1  1.70                  17 km WNW of Mentone, Texas  1702165945605   \n",
       "2  5.00                              Reykjanes Ridge  1702165696233   \n",
       "3  3.73  146 km NNE of Cruz Bay, U.S. Virgin Islands  1702165513570   \n",
       "4  0.79                  6 km WNW of The Geysers, CA  1702164523680   \n",
       "\n",
       "         updated    tz                                                url  \\\n",
       "0  1702167408040  None  https://earthquake.usgs.gov/earthquakes/eventp...   \n",
       "1  1702167684698  None  https://earthquake.usgs.gov/earthquakes/eventp...   \n",
       "2  1702167097040  None  https://earthquake.usgs.gov/earthquakes/eventp...   \n",
       "3  1702170749040  None  https://earthquake.usgs.gov/earthquakes/eventp...   \n",
       "4  1702167914212  None  https://earthquake.usgs.gov/earthquakes/eventp...   \n",
       "\n",
       "                                              detail  felt  cdi  mmi  ...  \\\n",
       "0  https://earthquake.usgs.gov/fdsnws/event/1/que...   NaN  NaN  NaN  ...   \n",
       "1  https://earthquake.usgs.gov/fdsnws/event/1/que...   NaN  NaN  NaN  ...   \n",
       "2  https://earthquake.usgs.gov/fdsnws/event/1/que...   NaN  NaN  NaN  ...   \n",
       "3  https://earthquake.usgs.gov/fdsnws/event/1/que...   NaN  NaN  NaN  ...   \n",
       "4  https://earthquake.usgs.gov/fdsnws/event/1/que...   NaN  NaN  NaN  ...   \n",
       "\n",
       "                         ids  sources  \\\n",
       "0               ,us7000lhu1,     ,us,   \n",
       "1               ,tx2023ycrh,     ,tx,   \n",
       "2               ,us7000lhtz,     ,us,   \n",
       "3  ,us7000lhu2,pr2023343003,  ,us,pr,   \n",
       "4               ,nc73973931,     ,nc,   \n",
       "\n",
       "                                            types   nst      dmin   rms  \\\n",
       "0                             ,origin,phase-data,  45.0  7.604000  0.65   \n",
       "1                             ,origin,phase-data,  17.0  0.100000  0.50   \n",
       "2                             ,origin,phase-data,  54.0  6.986000  0.72   \n",
       "3                             ,origin,phase-data,  14.0  1.207700  0.29   \n",
       "4  ,nearby-cities,origin,phase-data,scitech-link,   8.0  0.006717  0.02   \n",
       "\n",
       "     gap magType        type  \\\n",
       "0  126.0      mb  earthquake   \n",
       "1  109.0     mlv  earthquake   \n",
       "2   86.0      mb  earthquake   \n",
       "3  306.0      md  earthquake   \n",
       "4  105.0      md  earthquake   \n",
       "\n",
       "                                               title  \n",
       "0         M 4.7 - 40 km NE of Barcelona, Philippines  \n",
       "1                M 1.7 - 17 km WNW of Mentone, Texas  \n",
       "2                            M 5.0 - Reykjanes Ridge  \n",
       "3  M 3.7 - 146 km NNE of Cruz Bay, U.S. Virgin Is...  \n",
       "4                M 0.8 - 6 km WNW of The Geysers, CA  \n",
       "\n",
       "[5 rows x 26 columns]"
      ]
     },
     "execution_count": 8,
     "metadata": {},
     "output_type": "execute_result"
    }
   ],
   "source": [
    "earthquake_properties_data = [\n",
    "    quake['properties'] for quake in earthquake_json['features']\n",
    "]\n",
    "# lo que hago es iterar por cada elemento de la lista \"earthquake_json['features']\" y cuando el elemento sea \"quake['properties']\" lo anexo\n",
    "df = pd.DataFrame(earthquake_properties_data)\n",
    "df.head()"
   ]
  },
  {
   "cell_type": "markdown",
   "metadata": {},
   "source": [
    "### (Opcional) Guardar los datos en un CSV"
   ]
  },
  {
   "cell_type": "code",
   "execution_count": 9,
   "metadata": {},
   "outputs": [],
   "source": [
    "df.to_csv('earthquakes.csv', index=False)"
   ]
  },
  {
   "cell_type": "markdown",
   "metadata": {},
   "source": [
    "<hr>\n",
    "<div>\n",
    "    <a href=\"./2-creando_dataframes.ipynb\">\n",
    "        <button style=\"float: left;\">&#8592; Notebook Anterior</button>\n",
    "    </a>\n",
    "    <a href=\"./4-inspeccionando_dataframes.ipynb\">\n",
    "        <button style=\"float: right;\">Siguiente Notebook &#8594;</button>\n",
    "    </a>\n",
    "</div>\n",
    "<br>\n",
    "<hr>"
   ]
  }
 ],
 "metadata": {
  "kernelspec": {
   "display_name": "Python 3",
   "language": "python",
   "name": "python3"
  },
  "language_info": {
   "codemirror_mode": {
    "name": "ipython",
    "version": 3
   },
   "file_extension": ".py",
   "mimetype": "text/x-python",
   "name": "python",
   "nbconvert_exporter": "python",
   "pygments_lexer": "ipython3",
   "version": "3.11.3"
  }
 },
 "nbformat": 4,
 "nbformat_minor": 4
}
