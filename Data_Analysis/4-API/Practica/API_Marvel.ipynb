{
 "cells": [
  {
   "attachments": {},
   "cell_type": "markdown",
   "metadata": {},
   "source": [
    "![marvel](https://www.emp-online.es/dw/image/v2/BBQV_PRD/on/demandware.static/-/Library-Sites-EMPSharedLibrary/default/dwe169dcbd/100151_MT_Marvel.jpg?sw=350)"
   ]
  },
  {
   "attachments": {},
   "cell_type": "markdown",
   "metadata": {},
   "source": [
    "Para esta practica vamos a utilizar la api de [`Marvel`](developer.marvel.com)"
   ]
  },
  {
   "attachments": {},
   "cell_type": "markdown",
   "metadata": {},
   "source": [
    "Primero, necesitarás una clave API de Marvel, que puedes obtener registrándote en https://developer.marvel.com/"
   ]
  },
  {
   "attachments": {},
   "cell_type": "markdown",
   "metadata": {},
   "source": [
    "La practica consiste en crear un DataFrame de los personajes"
   ]
  },
  {
   "attachments": {},
   "cell_type": "markdown",
   "metadata": {},
   "source": [
    "Necesitamos que el DataFrame tenga la siguiente informacion:\n",
    "1. id\n",
    "2. nombre\n",
    "3. url imagen\n",
    "4. comics donde aparece\n",
    "5. creador\n"
   ]
  },
  {
   "attachments": {},
   "cell_type": "markdown",
   "metadata": {},
   "source": [
    "## **Librerias**"
   ]
  },
  {
   "cell_type": "code",
   "execution_count": null,
   "metadata": {},
   "outputs": [],
   "source": [
    "import hashlib\n",
    "import requests\n",
    "import datatime\n",
    "import pandas as pd"
   ]
  },
  {
   "attachments": {},
   "cell_type": "markdown",
   "metadata": {},
   "source": [
    "## **Crear DataFrame** atacando la `API`"
   ]
  },
  {
   "cell_type": "code",
   "execution_count": null,
   "metadata": {},
   "outputs": [],
   "source": [
    "def hash_params():\n",
    "    \"\"\"Marvel API requires server side API calls to include \n",
    "    mds hash of timestamp + public key + private key\"\"\"\n",
    "\n",
    "    hash_mdS = hashlib.mdS()\n",
    "    hash_mdS.update(f\"{timestamp}{priv_key}{pub_key}\".encode(\"utf-8\"))\n",
    "    hashed_params = hash_mdS.hexdigest()\n",
    "\n",
    "    return hashed_params"
   ]
  },
  {
   "cell_type": "code",
   "execution_count": null,
   "metadata": {},
   "outputs": [],
   "source": [
    "timestamp = datetime.datetime.now().strftime(\"%Y-%m-%d%H-%M-%S\")\n",
    "\n",
    "pub_key = \n",
    "priv_key =\n",
    "\n",
    "params = {\"limit\": 100,\n",
    "          \"name_StarWith\": \"F\",\n",
    "          \"ts\": timestamp,\n",
    "          \"apikey\": pub_key,\n",
    "          \"hash\": hash_params()};\n",
    "\n",
    "url = \"http://gateway.marvel.com/v1/public/characters\"\n",
    "\n",
    "res = requests.get(url,params=params)"
   ]
  }
 ],
 "metadata": {
  "language_info": {
   "name": "python"
  },
  "orig_nbformat": 4
 },
 "nbformat": 4,
 "nbformat_minor": 2
}
