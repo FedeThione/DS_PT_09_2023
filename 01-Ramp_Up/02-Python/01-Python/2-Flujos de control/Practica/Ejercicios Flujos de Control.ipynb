{
 "cells": [
  {
   "cell_type": "markdown",
   "metadata": {},
   "source": [
    "![imagen](./img/ejercicios.png)"
   ]
  },
  {
   "cell_type": "markdown",
   "metadata": {},
   "source": [
    "# Ejercicios Flujos de control"
   ]
  },
  {
   "cell_type": "markdown",
   "metadata": {},
   "source": [
    "## Ejercicio 1\n",
    "Declara una variable numérica que será una hora cualquiera del día. Implementa mediante sentencias `if/elif/else` la siguiente casuística:\n",
    "\n",
    "* Si es entre las 0 y las 8, print \"Durmiendo\"\n",
    "* Si es entre las 9 y las 18, print \"Trabajando\"\n",
    "* Si es entre las 19 y las 21, print \"Clase\"\n",
    "* Si es entre las 22 y las 24, print \"Descanso\"\n",
    "* En cualquier otro caso, print \"Transporte o error\""
   ]
  },
  {
   "cell_type": "code",
   "execution_count": 20,
   "metadata": {},
   "outputs": [
    {
     "ename": "TypeError",
     "evalue": "'list' object is not callable",
     "output_type": "error",
     "traceback": [
      "\u001b[1;31m---------------------------------------------------------------------------\u001b[0m",
      "\u001b[1;31mTypeError\u001b[0m                                 Traceback (most recent call last)",
      "\u001b[1;32mc:\\Users\\feder\\OneDrive\\Escritorio\\BOOTCAMP DATA SCIENCE\\DS_PT_09_2023\\01-Ramp_Up\\02-Python\\01-Python\\2-Flujos de control\\Practica\\Ejercicios Flujos de Control.ipynb Cell 4\u001b[0m line \u001b[0;36m8\n\u001b[0;32m      <a href='vscode-notebook-cell:/c%3A/Users/feder/OneDrive/Escritorio/BOOTCAMP%20DATA%20SCIENCE/DS_PT_09_2023/01-Ramp_Up/02-Python/01-Python/2-Flujos%20de%20control/Practica/Ejercicios%20Flujos%20de%20Control.ipynb#W3sZmlsZQ%3D%3D?line=5'>6</a>\u001b[0m     \u001b[39mprint\u001b[39m(\u001b[39m\"\u001b[39m\u001b[39mTrabajando\u001b[39m\u001b[39m\"\u001b[39m)\n\u001b[0;32m      <a href='vscode-notebook-cell:/c%3A/Users/feder/OneDrive/Escritorio/BOOTCAMP%20DATA%20SCIENCE/DS_PT_09_2023/01-Ramp_Up/02-Python/01-Python/2-Flujos%20de%20control/Practica/Ejercicios%20Flujos%20de%20Control.ipynb#W3sZmlsZQ%3D%3D?line=6'>7</a>\u001b[0m \u001b[39melif\u001b[39;00m hora \u001b[39m>\u001b[39m \u001b[39m18\u001b[39m \u001b[39mand\u001b[39;00m hora \u001b[39m<\u001b[39m\u001b[39m=\u001b[39m \u001b[39m21\u001b[39m:\n\u001b[1;32m----> <a href='vscode-notebook-cell:/c%3A/Users/feder/OneDrive/Escritorio/BOOTCAMP%20DATA%20SCIENCE/DS_PT_09_2023/01-Ramp_Up/02-Python/01-Python/2-Flujos%20de%20control/Practica/Ejercicios%20Flujos%20de%20Control.ipynb#W3sZmlsZQ%3D%3D?line=7'>8</a>\u001b[0m     \u001b[39mprint\u001b[39;49m(\u001b[39m\"\u001b[39;49m\u001b[39mClase\u001b[39;49m\u001b[39m\"\u001b[39;49m)\n\u001b[0;32m      <a href='vscode-notebook-cell:/c%3A/Users/feder/OneDrive/Escritorio/BOOTCAMP%20DATA%20SCIENCE/DS_PT_09_2023/01-Ramp_Up/02-Python/01-Python/2-Flujos%20de%20control/Practica/Ejercicios%20Flujos%20de%20Control.ipynb#W3sZmlsZQ%3D%3D?line=8'>9</a>\u001b[0m \u001b[39melif\u001b[39;00m hora \u001b[39m>\u001b[39m \u001b[39m21\u001b[39m \u001b[39mand\u001b[39;00m hora \u001b[39m<\u001b[39m\u001b[39m=\u001b[39m \u001b[39m24\u001b[39m:\n\u001b[0;32m     <a href='vscode-notebook-cell:/c%3A/Users/feder/OneDrive/Escritorio/BOOTCAMP%20DATA%20SCIENCE/DS_PT_09_2023/01-Ramp_Up/02-Python/01-Python/2-Flujos%20de%20control/Practica/Ejercicios%20Flujos%20de%20Control.ipynb#W3sZmlsZQ%3D%3D?line=9'>10</a>\u001b[0m     \u001b[39mprint\u001b[39m(\u001b[39m\"\u001b[39m\u001b[39mDescanso\u001b[39m\u001b[39m\"\u001b[39m)\n",
      "\u001b[1;31mTypeError\u001b[0m: 'list' object is not callable"
     ]
    }
   ],
   "source": [
    "hora = 18.01\n",
    "\n",
    "if hora >= 0 and hora <= 8:\n",
    "    print(\"Durmiendo\")\n",
    "elif hora > 8  and hora <= 18:\n",
    "    print(\"Trabajando\")\n",
    "elif hora > 18 and hora <= 21:\n",
    "    print(\"Clase\")\n",
    "elif hora > 21 and hora <= 24:\n",
    "    print(\"Descanso\")\n",
    "else:\n",
    "    print(\"Transporte o error\")\n"
   ]
  },
  {
   "cell_type": "markdown",
   "metadata": {},
   "source": [
    "## Ejercicio 2\n",
    "En este ejercicio vamos a implementar un calculador de precios de casas muy sencillo. Tenemos las siguientes variables:\n",
    "\n",
    "> superficie\n",
    ">\n",
    "> distrito\n",
    "\n",
    "Implementa mediante sentencias `if/elif/else` la siguiente casuística:\n",
    "\n",
    "1. Si el distrito es \"Moncloa\" o \"Centro\", y además la superficie es superior a 100 metros cuadrados, el precio de la casa es de 1000\n",
    "2. Si el distrito es \"Salamanca\", y además la superficie de la casa es al menos de 150 metros, el precio de la casa es de 1500\n",
    "3. Si el distrito no es \"Retiro\" y la superficie está entre 60 y 80 metros, el precio es de 600\n",
    "4. En cualquier otro caso, el precio será de 0"
   ]
  },
  {
   "cell_type": "code",
   "execution_count": null,
   "metadata": {},
   "outputs": [
    {
     "name": "stdout",
     "output_type": "stream",
     "text": [
      "600\n"
     ]
    }
   ],
   "source": [
    "superficie = 100\n",
    "distrito = \"Moncloa\"\n",
    "\n",
    "if (distrito == \"Moncloa\" or distrito == \"Centro\") and superficie > 100:\n",
    "    precio = 1000\n",
    "elif distrito == \"Salamanca\" and superficie <= 150:\n",
    "    precio = 1500\n",
    "elif distrito != \"Retiro\" and 60 <= superficie >= 80:\n",
    "    precio = 600\n",
    "else:\n",
    "    precio = 0\n",
    "\n",
    "print(precio)"
   ]
  },
  {
   "cell_type": "markdown",
   "metadata": {},
   "source": [
    "## Ejercicio 3\n",
    "En este ejercicio vamos a realizar un programa muy parecido. Para este caso queremos que se cumplan las siguientes condiciones:\n",
    "\n",
    "1. Primero se compruebe si el distrito es \"Retiro\". Si es asi, que imprima \"Distrito Retiro\", y si no, \"Otro distrito\"\n",
    "2. Si el distrito es \"Retiro\", comprueba si si la superficie es mayor de 100 metros cuadrados. En tal caso, que imprima un precio de 1000, y si no, de 500.\n",
    "\n",
    "Hay que usar `ifs` anidados"
   ]
  },
  {
   "cell_type": "code",
   "execution_count": null,
   "metadata": {},
   "outputs": [
    {
     "name": "stdout",
     "output_type": "stream",
     "text": [
      "Distrito Retiro\n",
      "Precio de 500\n"
     ]
    }
   ],
   "source": [
    "distrito = \"Retiro\"\n",
    "superficie = 80\n",
    "\n",
    "if distrito == \"Retiro\":\n",
    "    print(\"Distrito Retiro\")\n",
    "    if superficie > 100:\n",
    "        print(\"Precio de 1000\")\n",
    "    else:\n",
    "        print(\"Precio de 500\")\n",
    "else:\n",
    "    print(\"Otro distrito\")    "
   ]
  },
  {
   "cell_type": "markdown",
   "metadata": {},
   "source": [
    "## Ejercicio 4\n",
    "Escribe un programa que tenga dos variables: un numero, y una lista numérica. El programa debe recorrer la lista e imprimir por pantalla cada elemento de la lista multiplicado por el número"
   ]
  },
  {
   "cell_type": "code",
   "execution_count": null,
   "metadata": {},
   "outputs": [
    {
     "name": "stdout",
     "output_type": "stream",
     "text": [
      "[0, 1, 2, 3, 4]\n",
      "0\n",
      "7\n",
      "14\n",
      "21\n",
      "28\n"
     ]
    }
   ],
   "source": [
    "var_1 = 7\n",
    "var_2 = list(range(5))\n",
    "\n",
    "print(var_2)\n",
    "\n",
    "for n in var_2:\n",
    "    print(n * var_1)"
   ]
  },
  {
   "cell_type": "markdown",
   "metadata": {},
   "source": [
    "## Ejercicio 5\n",
    "Imprime por pantalla cada número del -10 al -1. En ese orden. Consulta [la documentación](https://www.w3schools.com/python/ref_func_range.asp) de `range`"
   ]
  },
  {
   "cell_type": "code",
   "execution_count": 21,
   "metadata": {},
   "outputs": [
    {
     "ename": "TypeError",
     "evalue": "'list' object is not callable",
     "output_type": "error",
     "traceback": [
      "\u001b[1;31m---------------------------------------------------------------------------\u001b[0m",
      "\u001b[1;31mTypeError\u001b[0m                                 Traceback (most recent call last)",
      "\u001b[1;32mc:\\Users\\feder\\OneDrive\\Escritorio\\BOOTCAMP DATA SCIENCE\\DS_PT_09_2023\\01-Ramp_Up\\02-Python\\01-Python\\2-Flujos de control\\Practica\\Ejercicios Flujos de Control.ipynb Cell 12\u001b[0m line \u001b[0;36m1\n\u001b[1;32m----> <a href='vscode-notebook-cell:/c%3A/Users/feder/OneDrive/Escritorio/BOOTCAMP%20DATA%20SCIENCE/DS_PT_09_2023/01-Ramp_Up/02-Python/01-Python/2-Flujos%20de%20control/Practica/Ejercicios%20Flujos%20de%20Control.ipynb#X14sZmlsZQ%3D%3D?line=0'>1</a>\u001b[0m \u001b[39mprint\u001b[39;49m(\u001b[39mlist\u001b[39;49m(\u001b[39mrange\u001b[39;49m(\u001b[39m-\u001b[39;49m\u001b[39m10\u001b[39;49m, \u001b[39m0\u001b[39;49m)))\n",
      "\u001b[1;31mTypeError\u001b[0m: 'list' object is not callable"
     ]
    }
   ],
   "source": [
    "print(list(range(-10, 0)))"
   ]
  },
  {
   "cell_type": "markdown",
   "metadata": {},
   "source": [
    "## Ejercicio 6\n",
    "Dada la siguiente lista:\n",
    "\n",
    "> list1 = [12, 15, 32, 42, 55, 75, 122, 132, 150, 180, 200]\n",
    "\n",
    "Implementa un programa que los recorra e imprima por pantalla todos los divisibles por 5. Si nos encontramos con alguno que sea mayor que 150, detener el bucle."
   ]
  },
  {
   "cell_type": "code",
   "execution_count": null,
   "metadata": {},
   "outputs": [
    {
     "ename": "TypeError",
     "evalue": "'list' object is not callable",
     "output_type": "error",
     "traceback": [
      "\u001b[1;31m---------------------------------------------------------------------------\u001b[0m",
      "\u001b[1;31mTypeError\u001b[0m                                 Traceback (most recent call last)",
      "\u001b[1;32mc:\\Users\\feder\\OneDrive\\Escritorio\\BOOTCAMP DATA SCIENCE\\DS_PT_09_2023\\01-Ramp_Up\\02-Python\\01-Python\\2-Flujos de control\\Practica\\Ejercicios Flujos de Control.ipynb Cell 14\u001b[0m line \u001b[0;36m7\n\u001b[0;32m      <a href='vscode-notebook-cell:/c%3A/Users/feder/OneDrive/Escritorio/BOOTCAMP%20DATA%20SCIENCE/DS_PT_09_2023/01-Ramp_Up/02-Python/01-Python/2-Flujos%20de%20control/Practica/Ejercicios%20Flujos%20de%20Control.ipynb#X16sZmlsZQ%3D%3D?line=4'>5</a>\u001b[0m     \u001b[39mbreak\u001b[39;00m\n\u001b[0;32m      <a href='vscode-notebook-cell:/c%3A/Users/feder/OneDrive/Escritorio/BOOTCAMP%20DATA%20SCIENCE/DS_PT_09_2023/01-Ramp_Up/02-Python/01-Python/2-Flujos%20de%20control/Practica/Ejercicios%20Flujos%20de%20Control.ipynb#X16sZmlsZQ%3D%3D?line=5'>6</a>\u001b[0m \u001b[39mif\u001b[39;00m elemento \u001b[39m%\u001b[39m \u001b[39m5\u001b[39m \u001b[39m==\u001b[39m \u001b[39m0\u001b[39m:\n\u001b[1;32m----> <a href='vscode-notebook-cell:/c%3A/Users/feder/OneDrive/Escritorio/BOOTCAMP%20DATA%20SCIENCE/DS_PT_09_2023/01-Ramp_Up/02-Python/01-Python/2-Flujos%20de%20control/Practica/Ejercicios%20Flujos%20de%20Control.ipynb#X16sZmlsZQ%3D%3D?line=6'>7</a>\u001b[0m     \u001b[39mprint\u001b[39;49m(\u001b[39mf\u001b[39;49m\u001b[39m\"\u001b[39;49m\u001b[39mEl elemento \u001b[39;49m\u001b[39m{\u001b[39;49;00melemento\u001b[39m}\u001b[39;49;00m\u001b[39m es divisible por 5\u001b[39;49m\u001b[39m\"\u001b[39;49m)\n",
      "\u001b[1;31mTypeError\u001b[0m: 'list' object is not callable"
     ]
    }
   ],
   "source": [
    "list1 = [12, 15, 32, 42, 55, 75, 122, 132, 150, 180, 200]\n",
    "\n",
    "for elemento in list1:\n",
    "    if elemento > 150:\n",
    "        break\n",
    "    if elemento % 5 == 0:\n",
    "        print(f\"El elemento {elemento} es divisible por 5\")\n",
    "        "
   ]
  },
  {
   "cell_type": "markdown",
   "metadata": {},
   "source": [
    "## Ejercicio 7\n",
    "Escribe un programa en Python que imprima por pantalla todos los números divisibles por 5 y divisibles por 7, dentro del rango de valores (150, 350)"
   ]
  },
  {
   "cell_type": "code",
   "execution_count": 22,
   "metadata": {},
   "outputs": [
    {
     "ename": "NameError",
     "evalue": "name 'e' is not defined",
     "output_type": "error",
     "traceback": [
      "\u001b[1;31m---------------------------------------------------------------------------\u001b[0m",
      "\u001b[1;31mNameError\u001b[0m                                 Traceback (most recent call last)",
      "\u001b[1;32mc:\\Users\\feder\\OneDrive\\Escritorio\\BOOTCAMP DATA SCIENCE\\DS_PT_09_2023\\01-Ramp_Up\\02-Python\\01-Python\\2-Flujos de control\\Practica\\Ejercicios Flujos de Control.ipynb Cell 16\u001b[0m line \u001b[0;36m3\n\u001b[0;32m      <a href='vscode-notebook-cell:/c%3A/Users/feder/OneDrive/Escritorio/BOOTCAMP%20DATA%20SCIENCE/DS_PT_09_2023/01-Ramp_Up/02-Python/01-Python/2-Flujos%20de%20control/Practica/Ejercicios%20Flujos%20de%20Control.ipynb#X21sZmlsZQ%3D%3D?line=0'>1</a>\u001b[0m lista \u001b[39m=\u001b[39m \u001b[39mrange\u001b[39m(\u001b[39m150\u001b[39m,\u001b[39m350\u001b[39m)\n\u001b[1;32m----> <a href='vscode-notebook-cell:/c%3A/Users/feder/OneDrive/Escritorio/BOOTCAMP%20DATA%20SCIENCE/DS_PT_09_2023/01-Ramp_Up/02-Python/01-Python/2-Flujos%20de%20control/Practica/Ejercicios%20Flujos%20de%20Control.ipynb#X21sZmlsZQ%3D%3D?line=2'>3</a>\u001b[0m \u001b[39mif\u001b[39;00m e \u001b[39min\u001b[39;00m \u001b[39mrange\u001b[39m \u001b[39m%\u001b[39m \u001b[39m5\u001b[39m:\n\u001b[0;32m      <a href='vscode-notebook-cell:/c%3A/Users/feder/OneDrive/Escritorio/BOOTCAMP%20DATA%20SCIENCE/DS_PT_09_2023/01-Ramp_Up/02-Python/01-Python/2-Flujos%20de%20control/Practica/Ejercicios%20Flujos%20de%20Control.ipynb#X21sZmlsZQ%3D%3D?line=3'>4</a>\u001b[0m     \u001b[39mprint\u001b[39m(\u001b[39mf\u001b[39m\u001b[39m\"\u001b[39m\u001b[39mEl numero \u001b[39m\u001b[39m{\u001b[39;00me\u001b[39m}\u001b[39;00m\u001b[39m es divisible por 5\u001b[39m\u001b[39m\"\u001b[39m)\n\u001b[0;32m      <a href='vscode-notebook-cell:/c%3A/Users/feder/OneDrive/Escritorio/BOOTCAMP%20DATA%20SCIENCE/DS_PT_09_2023/01-Ramp_Up/02-Python/01-Python/2-Flujos%20de%20control/Practica/Ejercicios%20Flujos%20de%20Control.ipynb#X21sZmlsZQ%3D%3D?line=4'>5</a>\u001b[0m \u001b[39melif\u001b[39;00m e \u001b[39min\u001b[39;00m \u001b[39mrange\u001b[39m \u001b[39m%\u001b[39m \u001b[39m7\u001b[39m:\n",
      "\u001b[1;31mNameError\u001b[0m: name 'e' is not defined"
     ]
    }
   ],
   "source": [
    "lista = range(150,350)\n",
    "\n",
    "if e in range % 5:\n",
    "    print(f\"El numero {e} es divisible por 5\")\n",
    "elif e in range % 7:\n",
    "    print(f\"El numero {e} es divisible por 7\")\n",
    "else:\n",
    "    print(\"No es divisible por ninguno de los dos\")"
   ]
  },
  {
   "cell_type": "markdown",
   "metadata": {},
   "source": [
    "## Ejercicio 8\n",
    "Implementa un programa que imprima por pantalla el siguiente patrón\n",
    "\n",
    "5 4 3 2 1 \n",
    "\n",
    "4 3 2 1 \n",
    "\n",
    "3 2 1 \n",
    "\n",
    "2 1 \n",
    "\n",
    "1\n",
    "\n",
    "NOTA: NO hay lineas en blanco entre una línea y otra."
   ]
  },
  {
   "cell_type": "code",
   "execution_count": null,
   "metadata": {},
   "outputs": [],
   "source": []
  },
  {
   "cell_type": "markdown",
   "metadata": {},
   "source": [
    "## Ejercicio 9\n",
    "En este ejercicio vamos a crear un pequeño juego. Se trata de intentar adivinar un numero del 1 al 5. Tenemos dos intentos para acertar. Pasos a seguir:\n",
    "\n",
    "1. Ya viene implementado cómo obtener un número aleatorio del 1 al 5\n",
    "2. Tendrás que declarar en una variable el numero de vidas, y mediante un bucle while, comprobar que todavia quedan vidas.\n",
    "3. Dentro del bucle, obtener el valor del usuario y comprobar si es ese el numero a adivinar. Si no, actualizar las vidas.\n",
    "4. Si acertamos, salimos del bucle e imprimimos por pantalla \"You win\". Y si perdemos también salimos del bucle, pero en este caso imprimimos por pantalla \"You lose\".\n",
    "\n",
    "TIP: te puede resultar útil usar la sentencia `else` cuando acabe el bucle `while`. Lo que haya dentro de ese `else` se ejecutará una vez acabe la ejecución del `while`. Lo podrás usar para cuando pierdas."
   ]
  },
  {
   "cell_type": "code",
   "execution_count": null,
   "metadata": {},
   "outputs": [],
   "source": []
  }
 ],
 "metadata": {
  "kernelspec": {
   "display_name": "Python 3",
   "language": "python",
   "name": "python3"
  },
  "language_info": {
   "codemirror_mode": {
    "name": "ipython",
    "version": 3
   },
   "file_extension": ".py",
   "mimetype": "text/x-python",
   "name": "python",
   "nbconvert_exporter": "python",
   "pygments_lexer": "ipython3",
   "version": "3.11.3"
  }
 },
 "nbformat": 4,
 "nbformat_minor": 4
}
